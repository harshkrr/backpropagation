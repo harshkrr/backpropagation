{
 "cells": [
  {
   "cell_type": "code",
   "execution_count": 1,
   "metadata": {},
   "outputs": [],
   "source": [
    "import sys\n",
    "import numpy as np\n",
    "import pandas as pd\n",
    "import math\n",
    "import matplotlib.pyplot as pt"
   ]
  },
  {
   "cell_type": "code",
   "execution_count": 2,
   "metadata": {},
   "outputs": [],
   "source": [
    "#ACTIVATION FUNCTION\n",
    "def sigmoid(x):\n",
    "  return 1/(1 + np.exp(-x))\n",
    "\n",
    "#SOFTMAX DEFINED\n",
    "def softmax(X):\n",
    "    y = np.atleast_2d(X)\n",
    "    axis = 1\n",
    "#     subtract the max for numerical stability\n",
    "    y = y - np.expand_dims(np.max(y, axis = axis), axis)\n",
    "#     exponentiate y\n",
    "    y = np.exp(y)\n",
    "#     take the sum along the specified axis\n",
    "    ax_sum = np.expand_dims(np.sum(y, axis = axis), axis)\n",
    "#     finally: divide elementwise\n",
    "    p = y / ax_sum\n",
    "#     flatten if X was 1D\n",
    "#     if len(X.shape) == 1: p = p.flatten()\n",
    "    return p\n",
    "    \n",
    "    \n",
    "# define vectorized sigmoid\n",
    "sigmoid_v = np.vectorize(sigmoid)\n"
   ]
  },
  {
   "cell_type": "code",
   "execution_count": 3,
   "metadata": {},
   "outputs": [],
   "source": [
    "trainfile = \"mnist_train.csv\"\n",
    "weightfile = \"weight.txt\"\n",
    "answerfile = \"answers.txt\"\n",
    "testfile = \"mnist_test.csv\""
   ]
  },
  {
   "cell_type": "code",
   "execution_count": 4,
   "metadata": {},
   "outputs": [],
   "source": [
    "#READ TRAIN FILE\n",
    "train_data = np.array(pd.read_csv(trainfile, header=None))#read training data\n",
    "data = train_data[0:6000,:]\n",
    "training_data = np.c_[np.ones(data.shape[0]),data[:,1:]]\n",
    "training_label = data[ :, 0]\n",
    "training_v_label = np.zeros((training_label.shape[0],10))\n",
    "test = np.array(pd.read_csv(testfile, header=None))#read training data\n",
    "test = np.c_[np.ones(test.shape[0]),test[:,:]]\n",
    "val = train_data[6000:,:]\n",
    "val_data = np.c_[np.ones(val.shape[0]),val[:,1:]]\n",
    "val_label = val[ :, 0]\n",
    "# print(val_data.shape)\n",
    "# print(val_label.shape)"
   ]
  },
  {
   "cell_type": "code",
   "execution_count": 5,
   "metadata": {},
   "outputs": [],
   "source": [
    "# print(training_data.shape)#-> 6000 785\n",
    "# print(training_label.shape)#-> 6000\n",
    "# print(training_v_label.shape)#-> 6000 10\n",
    "# print(test.shape)#-> 3000 785"
   ]
  },
  {
   "cell_type": "code",
   "execution_count": 6,
   "metadata": {},
   "outputs": [],
   "source": [
    "# for i in range(10):\n",
    "#     d = val[i]\n",
    "#     d = d[1:]\n",
    "#     d.shape = (28, 28)\n",
    "#     pt.imshow(255-d, cmap='gray')\n",
    "#     pt.show()"
   ]
  },
  {
   "cell_type": "code",
   "execution_count": 7,
   "metadata": {},
   "outputs": [],
   "source": [
    "# val_label[2]"
   ]
  },
  {
   "cell_type": "code",
   "execution_count": 8,
   "metadata": {},
   "outputs": [],
   "source": [
    "#one hot encode\n",
    "for i in range(training_label.shape[0]):\n",
    "    training_v_label[i][training_label[i]] = 1   \n",
    "\n",
    "#define parameters\n",
    "max_iter = 500\n",
    "batch_size = 50\n",
    "lr = 0.05\n",
    "hidden_layers = [50]"
   ]
  },
  {
   "cell_type": "code",
   "execution_count": 9,
   "metadata": {},
   "outputs": [],
   "source": [
    "#INITIALIZE HIDDENLAYER, WEIGHT AND GRADIENT\n",
    "hl = []\n",
    "for x in hidden_layers:\n",
    "    hl.append(np.zeros(x+1))\n",
    "    \n",
    "#RESET GRADIENT AND ERROR TO ZERO\n",
    "def initialize_gradient():\n",
    "    gd = []\n",
    "    gd.append(np.zeros((training_data.shape[1],len(hl[0])-1)))\n",
    "    for i in range(len(hl) - 1):\n",
    "        gd.append(np.zeros((len(hl[i]),len(hl[i+1])-1)))\n",
    "    \n",
    "    gd.append(np.zeros((hl[-1].shape[0], training_v_label.shape[1])))\n",
    "    return gd\n",
    "\n",
    "def initialize_error():\n",
    "    l = []\n",
    "    for x in hidden_layers:\n",
    "        l.append(np.zeros(x+1))\n",
    "    return l"
   ]
  },
  {
   "cell_type": "code",
   "execution_count": 10,
   "metadata": {},
   "outputs": [],
   "source": [
    "#random weight initialize\n",
    "def initialize_random():\n",
    "    gd = []\n",
    "    gd.append(np.random.randn(training_data.shape[1],len(hl[0])-1)*0.01)\n",
    "    for i in range(len(hl) - 1):\n",
    "        gd.append(np.random.randn(len(hl[i]),len(hl[i+1])-1)*0.01)\n",
    "    gd.append(np.random.randn(hl[-1].shape[0], training_v_label.shape[1])*0.01)\n",
    "    return gd"
   ]
  },
  {
   "cell_type": "code",
   "execution_count": 11,
   "metadata": {},
   "outputs": [],
   "source": [
    "def acuu():\n",
    "    check_val = np.ones(val_data.shape[0])\n",
    "    # val_data.shape[0]\n",
    "    for index in range(val_data.shape[0]):\n",
    "        temp_hl = initialize_error()\n",
    "        sdata = val[index]\n",
    "        sdata = sdata/255\n",
    "    #     print(\"sdata\", sdata)\n",
    "\n",
    "        #forward propogation\n",
    "        temp_hl[0][0] = 1\n",
    "        temp_hl[0][1:] = sigmoid_v(np.dot(np.transpose(wgt[0]), sdata))\n",
    "\n",
    "    #     print(\"layers* -> \", temp_hl[0])\n",
    "\n",
    "        for layer_no in range(len(temp_hl)-1):\n",
    "            temp_hl[layer_no + 1][0] = 1\n",
    "            temp_hl[layer_no + 1][1:] = sigmoid_v(np.dot(np.transpose(wgt[layer_no + 1]), temp_hl[layer_no]))\n",
    "    #         print(\"layers** -> \", temp_hl[layer_no+1])\n",
    "\n",
    "    #     for i in range(len(temp_hl)):\n",
    "    #         print(\"layers*** -> \", temp_hl[i])\n",
    "    #     print(\"weight[0]\", wgt[0])\n",
    "    #     print(\"weight[-1]\", wgt[-1])\n",
    "    #     print(np.dot(np.transpose(wgt[-1]), temp_hl[-1]))\n",
    "        pred = softmax(np.dot(np.transpose(wgt[-1]), temp_hl[-1]))\n",
    "    #     print(\"pred ->\", pred)\n",
    "        check_val[index] = np.argmax(pred)\n",
    "    # print(check_val)\n",
    "    count = 0\n",
    "    for i in range(len(check_val)):\n",
    "        if val_label[i] == int(check_val[i]):\n",
    "            count = count+1\n",
    "    accuracy = (count/len(check_val))*100\n",
    "    return accuracy\n",
    "    \n",
    "# acuu()"
   ]
  },
  {
   "cell_type": "code",
   "execution_count": 12,
   "metadata": {},
   "outputs": [],
   "source": [
    "acc_itr = []\n",
    "rate1_itr = []\n",
    "rate2_itr = []\n",
    "rate3_itr = []\n",
    "rate4_itr = []\n",
    "batch1_itr = []\n",
    "batch2_itr = []\n",
    "batch3_itr = []\n",
    "batch4_itr = []"
   ]
  },
  {
   "cell_type": "code",
   "execution_count": null,
   "metadata": {},
   "outputs": [
    {
     "name": "stdout",
     "output_type": "stream",
     "text": [
      "0\n"
     ]
    }
   ],
   "source": [
    "#train neural net\n",
    "iteration = 0\n",
    "wgt = initialize_random()\n",
    "while iteration < max_iter:\n",
    "    print(iteration)\n",
    "    for i in range(int(training_data.shape[0]/batch_size)):\n",
    "        grad = initialize_gradient()\n",
    "        err = initialize_error()\n",
    "        \n",
    "        if training_data[i*batch_size:(i + 1)*batch_size,:].shape[0] != 0:\n",
    "            batch_data = training_data[i*batch_size:(i + 1)*batch_size,:]\n",
    "            batch_label = training_v_label[i*batch_size:(i + 1)*batch_size,:]\n",
    "            \n",
    "#             print('start grad ->', grad)\n",
    "            for batch_index in range(batch_data.shape[0]):\n",
    "                #initialize temporary variables\n",
    "                temp_grad = initialize_gradient()\n",
    "                temp_err = initialize_error()\n",
    "                temp_hl = initialize_error()\n",
    "                sdata = batch_data[batch_index]\n",
    "                sdata = sdata/255\n",
    "                slab = batch_label[batch_index]\n",
    "                \n",
    "                #forward propogation\n",
    "                temp_hl[0][0] = 1\n",
    "#                 print(wgt[0].shape)\n",
    "#                 print(sdata.shape)\n",
    "#                 print(len(temp_hl[0][1:]))\n",
    "                temp_hl[0][1:] = sigmoid_v(np.dot(np.transpose(wgt[0]), sdata))\n",
    "#                 print(np.dot(np.transpose(wgt[0]), sdata))\n",
    "#                 print(\"sigmoid\")\n",
    "#                 print(temp_hl[0][1:])\n",
    "\n",
    "                for layer_no in range(len(temp_hl)-1):\n",
    "                    temp_hl[layer_no + 1][0] = 1\n",
    "                    temp_hl[layer_no + 1][1:] = sigmoid_v(np.dot(np.transpose(wgt[layer_no + 1]), temp_hl[layer_no]))\n",
    "                    \n",
    "#                 output\n",
    "                pred = softmax(np.dot(np.transpose(wgt[-1]), temp_hl[-1])).flatten()\n",
    "#                 print(pred)\n",
    "\n",
    "#                 BACKPROPAGATION\n",
    "                out_err = pred - slab\n",
    "#                 print(len(out_err))\n",
    "#                 out_err = (slab*np.log(pred) + (1 - slab)*np.log(1 - pred))\n",
    "#                 out_err = -((slab/pred)-((1 - slab)/(1 - pred)))\n",
    "#                 print(out_err)\n",
    "                temp_err[-1] = temp_hl[-1]*(1 - temp_hl[-1])*(np.dot(wgt[-1], out_err))\n",
    "#                 print(temp_err[-1])\n",
    "                temp_grad[-1] = np.dot(temp_hl[-1][:,None], out_err[None,:])\n",
    "#                 print(temp_grad[-1])\n",
    "                \n",
    "                for j in range(-2, -len(temp_grad) ,-1):\n",
    "                    temp_grad[j] = np.dot(temp_hl[j][:,None], np.transpose(temp_err[j+1][1:])[None,:])\n",
    "                    temp_err[j] = temp_hl[j]*(1 - temp_hl[j])*np.dot(wgt[j], temp_err[j+1][1:])\n",
    "                \n",
    "                #print('iter ', iteration,' ->', temp_err)\n",
    "                temp_grad[0] = np.dot(sdata[:,None], np.transpose(temp_err[0][1:])[None,:])\n",
    "#                 print('yoooooooooo')\n",
    "#                 print(np.sum(temp_grad[0]))\n",
    "#                 print(batch_index)\n",
    "                \n",
    "                for b in range(len(grad)):\n",
    "                    grad[b] = grad[b] + (temp_grad[b])/batch_size\n",
    "#                     print(\"grad -> \", grad[b])\n",
    "#             print('grad ->',grad[-1])\n",
    "#             print(i)\n",
    "#             print('________________________________')       \n",
    "            \n",
    "            for bb in range(len(wgt)):\n",
    "                wgt[bb] = wgt[bb] - (0.5) * grad[bb]\n",
    "                \n",
    "#                 print(bb,wgt[bb])\n",
    "#             print('weight')\n",
    "#             print(wgt)\n",
    "            acc_itr.append((iteration, acuu()))\n",
    "#             print((iteration, acuu()))\n",
    "\n",
    "#             rate1_itr.append((iteration, acuu()))\n",
    "#             rate2_itr.append((iteration, acuu()))\n",
    "#             rate3_itr.append((iteration, acuu()))\n",
    "#             rate4_itr.append((iteration, acuu()))\n",
    "\n",
    "#             batch1_itr.append((iteration, acuu()))\n",
    "            batch2_itr.append((iteration, acuu()))\n",
    "#             batch3_itr.append((iteration, acuu()))\n",
    "#             batch4_itr.append((iteration, acuu()))\n",
    "\n",
    "            iteration += 1\n",
    "            #print(iteration)\n",
    "            if iteration >= max_iter:\n",
    "                break"
   ]
  },
  {
   "cell_type": "code",
   "execution_count": null,
   "metadata": {},
   "outputs": [],
   "source": [
    "pt.plot(*zip(*acc_itr))\n",
    "pt.title('Accuracy vs Iteration')\n",
    "pt.xlabel('Iteration')\n",
    "pt.ylabel('Accuracy')\n",
    "pt.show()\n"
   ]
  },
  {
   "cell_type": "code",
   "execution_count": null,
   "metadata": {},
   "outputs": [],
   "source": [
    "# pt.plot(*zip(*rate1_itr),'r-',label='Learning Rate = 0.05') #lr = 0.05\n",
    "# pt.plot(*zip(*rate2_itr),'b-',label='Learning Rate = 0.1') #lr = 0.1\n",
    "# pt.plot(*zip(*rate3_itr),'g-',label='Learning Rate = 0.5') #lr = 0.5\n",
    "# pt.plot(*zip(*rate4_itr),'k-',label='Learning Rate = 1') #lr = 1\n",
    "# pt.title('Accuracy vs Iteration for different Learning Rates')\n",
    "# pt.xlabel('Iteration')\n",
    "# pt.ylabel('Accuracy in %')\n",
    "# pt.legend()\n",
    "# pt.show()"
   ]
  },
  {
   "cell_type": "code",
   "execution_count": null,
   "metadata": {},
   "outputs": [],
   "source": [
    "# pt.plot(*zip(*batch1_itr),'r-',label='batch_size = 64')\n",
    "# pt.plot(*zip(*batch2_itr),'b-',label='batch_size = 128') \n",
    "# # pt.plot(*zip(*batch3_itr),'g-',label='batch_size = 512') \n",
    "# # pt.plot(*zip(*batch4_itr),'k-',label='batch_size = 1000') \n",
    "# pt.title('Accuracy vs Iteration for different Batch Sizes')\n",
    "# pt.xlabel('Iteration')\n",
    "# pt.ylabel('Accuracy in %')\n",
    "# pt.legend()\n",
    "# pt.show()"
   ]
  },
  {
   "cell_type": "code",
   "execution_count": null,
   "metadata": {},
   "outputs": [],
   "source": [
    "# for l in wgt[0]:\n",
    "#     print(np.sum(l)/50)"
   ]
  },
  {
   "cell_type": "code",
   "execution_count": null,
   "metadata": {},
   "outputs": [],
   "source": [
    "# final_result = np.array([])\n",
    "# for f in range(len(wgt)):\n",
    "#     final_result = np.append(final_result, wgt[f].flatten())\n",
    "\n",
    "#print(hidden_layers)\n",
    "# for t in final_result:\n",
    "#     print(t)\n",
    "\n",
    "# np.savetxt(weightfile, final_result)"
   ]
  },
  {
   "cell_type": "code",
   "execution_count": null,
   "metadata": {},
   "outputs": [],
   "source": [
    "result = np.ones(test.shape[0], dtype=int)\n",
    "# test.shape[0]\n",
    "for index in range(test.shape[0]):\n",
    "    temp_hl = initialize_error()\n",
    "    sdata = test[index]\n",
    "    sdata = sdata/255\n",
    "#     print(\"sdata\", sdata)\n",
    "\n",
    "    #forward propogation\n",
    "    temp_hl[0][0] = 1\n",
    "    temp_hl[0][1:] = sigmoid_v(np.dot(np.transpose(wgt[0]), sdata))\n",
    "    \n",
    "#     print(\"layers* -> \", temp_hl[0])\n",
    "\n",
    "    for layer_no in range(len(temp_hl)-1):\n",
    "        temp_hl[layer_no + 1][0] = 1\n",
    "        temp_hl[layer_no + 1][1:] = sigmoid_v(np.dot(np.transpose(wgt[layer_no + 1]), temp_hl[layer_no]))\n",
    "#         print(\"layers** -> \", temp_hl[layer_no+1])\n",
    "\n",
    "#     for i in range(len(temp_hl)):\n",
    "#         print(\"layers*** -> \", temp_hl[i])\n",
    "#     print(\"weight[0]\", wgt[0])\n",
    "#     print(\"weight[-1]\", wgt[-1])\n",
    "#     print(np.dot(np.transpose(wgt[-1]), temp_hl[-1]))\n",
    "    pred = softmax(np.dot(np.transpose(wgt[-1]), temp_hl[-1]))\n",
    "#     print(\"pred ->\", pred)\n",
    "    result[index] = int(np.argmax(pred))\n",
    "print(result)\n",
    "np.savetxt(answerfile, result)"
   ]
  },
  {
   "cell_type": "code",
   "execution_count": null,
   "metadata": {},
   "outputs": [],
   "source": []
  },
  {
   "cell_type": "code",
   "execution_count": null,
   "metadata": {},
   "outputs": [],
   "source": []
  }
 ],
 "metadata": {
  "kernelspec": {
   "display_name": "Python 3",
   "language": "python",
   "name": "python3"
  },
  "language_info": {
   "codemirror_mode": {
    "name": "ipython",
    "version": 3
   },
   "file_extension": ".py",
   "mimetype": "text/x-python",
   "name": "python",
   "nbconvert_exporter": "python",
   "pygments_lexer": "ipython3",
   "version": "3.7.4"
  }
 },
 "nbformat": 4,
 "nbformat_minor": 2
}
